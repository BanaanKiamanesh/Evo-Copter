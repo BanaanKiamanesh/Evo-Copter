{
 "cells": [
  {
   "cell_type": "markdown",
   "metadata": {},
   "source": [
    "### Libraries"
   ]
  },
  {
   "cell_type": "code",
   "execution_count": 1,
   "metadata": {},
   "outputs": [],
   "source": [
    "import numpy as np\n",
    "import matplotlib.pyplot as plt\n",
    "import os\n",
    "from time import sleep"
   ]
  },
  {
   "cell_type": "markdown",
   "metadata": {},
   "source": [
    "### Problem Definition\n"
   ]
  },
  {
   "cell_type": "code",
   "execution_count": 2,
   "metadata": {},
   "outputs": [],
   "source": [
    "# Problem Parameters and Cost Function Declaration\n",
    "\n",
    "NFE = 0         # Number of Function Evaluation\n",
    "\n",
    "fname = r\"pid_gain_err.txt\"\n",
    "f_s = 100\n",
    "t_s = 1 / f_s\n",
    "setpoint = 0\n",
    "max_speed = 3400\n",
    "throttle = 2700\n",
    "\n",
    "def rms(data):\n",
    "    return np.sqrt(np.mean(data ** 2))\n",
    "    \n",
    "\n",
    "# def pidGainEval0(gains):\n",
    "    \n",
    "#     global NFE\n",
    "    \n",
    "#     # Run the Simulation\n",
    "#     os.system(f\"./pidGainEval {throttle} {gains[0]} {gains[1]} {gains[2]} {gains[3]} {max_speed}\")\n",
    "    \n",
    "#     data = np.loadtxt(fname=fname)  # Read Data\n",
    "    \n",
    "#     if (np.sum(data == 10000) > 0):\n",
    "#         cost = rms(data) * 1000   # Return a Big Cost\n",
    "        \n",
    "#     else:\n",
    "#         rms_data = rms(data - setpoint)                # Calculating RMS of the Signal\n",
    "#         peak = np.max(data) - setpoint                 # Calculating Peak\n",
    "        \n",
    "#         # Calculating the Rising Time\n",
    "#         minTime = 0.1 * setpoint\n",
    "#         maxTime = 0.9 * setpoint\n",
    "#         try:\n",
    "#             startInd = np.argwhere(data >= minTime)[0]\n",
    "#             endInd = np.argwhere(data <= maxTime)[0]\n",
    "            \n",
    "#             settleTime = t_s * (endInd - startInd)   # Convert index into time\n",
    "#             print('try')\n",
    "#             print(f\" start Idx = {startInd}, End Idx = {endInd}, t_s = {t_s}\")\n",
    "            \n",
    "#         except:\n",
    "#             settleTime = data.size * t_s\n",
    "#             print('except')\n",
    "        \n",
    "#         cost = rms_data * peak * settleTime  # Calculate the Cost\n",
    "        \n",
    "#         print(rms_data, peak, settleTime)\n",
    "              \n",
    "#     NFE += 1                # Add to the function evaluation Count\n",
    "    \n",
    "#     os.system(f\"mv pid_gain_err.txt flightData/{NFE}.txt\")  # Moving the File into the Folder \n",
    "    \n",
    "#     sleep(2)                    # Wait for 2 Seconds\n",
    "    \n",
    "#     return cost\n",
    "\n",
    "def pidGainEval(gains):\n",
    "    \n",
    "    global NFE\n",
    "    \n",
    "    # Run the Simulation\n",
    "    os.system(f\"./pidGainEval {throttle} {gains[0]} {gains[1]} {gains[2]} {gains[3]} {max_speed}\")\n",
    "    \n",
    "    data = np.loadtxt(fname=fname)  # Read Data\n",
    "    \n",
    "    if (np.sum(data == 10000) > 0):\n",
    "        cost = rms(data) * 1000   # Return a Big Cost\n",
    "        \n",
    "    else:\n",
    "        cost = rms(data - setpoint)                # Calculating RMS of the Signal\n",
    "                      \n",
    "    NFE += 1                # Add to the function evaluation Count\n",
    "    \n",
    "    os.system(f\"mv pid_gain_err.txt flightData/{NFE}.txt\")  # Moving the File into the Folder \n",
    "    sleep(2)                    # Wait for 2 Seconds\n",
    "    \n",
    "    return cost"
   ]
  },
  {
   "cell_type": "code",
   "execution_count": 3,
   "metadata": {},
   "outputs": [
    {
     "name": "stdout",
     "output_type": "stream",
     "text": [
      "10.90628904004474\n"
     ]
    }
   ],
   "source": [
    "gains = [5, .2, 3, 2]\n",
    "print(pidGainEval(gains))"
   ]
  },
  {
   "cell_type": "code",
   "execution_count": 4,
   "metadata": {},
   "outputs": [],
   "source": [
    "cost_func = pidGainEval\n",
    "n_var = 4                                        # Number of decision Vars\n",
    "var_size = np.array([1, n_var])                  # Decision Variable Mat Size\n",
    "var_range = np.array([30, 1.5, 10, 5])           # Desicion Var Lower Bound"
   ]
  },
  {
   "cell_type": "markdown",
   "metadata": {},
   "source": [
    "### BBO Parameters\n"
   ]
  },
  {
   "cell_type": "code",
   "execution_count": 5,
   "metadata": {},
   "outputs": [],
   "source": [
    "max_it = 20                     # Max Number of Iterations\n",
    "n_pop = 5                       # Number of Habitats\n",
    "\n",
    "keep_rate = 0.2                         # Keep Rate (Elitism Rate)\n",
    "n_keep = round(keep_rate * n_pop)       # Number of Kept Habitats (No of Elits)\n",
    "n_new = n_pop - n_keep                  # Number of New Habitats"
   ]
  },
  {
   "cell_type": "markdown",
   "metadata": {},
   "source": [
    "### Migeration Rates"
   ]
  },
  {
   "cell_type": "code",
   "execution_count": 6,
   "metadata": {},
   "outputs": [],
   "source": [
    "mu = np.linspace(1, 0, n_pop)           # Emmigration Rates\n",
    "lmbda = np.linspace(0, 1, n_pop)        # Immigration Rates\n",
    "\n",
    "alpha = 0.9                             # Linear Enterpolation Coefficient\n",
    "p_mutation = 0.05                       # Mutation Rate\n",
    "sigma = 0.05 * (var_range * 2)          # Standard Devision"
   ]
  },
  {
   "cell_type": "markdown",
   "metadata": {},
   "source": [
    "### Initialization"
   ]
  },
  {
   "cell_type": "code",
   "execution_count": 7,
   "metadata": {},
   "outputs": [],
   "source": [
    "pop_position = np.zeros((n_pop, n_var))\n",
    "pop_cost = np.zeros((n_pop))\n",
    "\n",
    "\n",
    "for iter in range(0, n_pop):\n",
    "    \n",
    "    for j in  range(n_var):\n",
    "        pop_position[iter, j] = np.random.uniform(\n",
    "            -var_range[j], var_range[j], 1)\n",
    "        \n",
    "    pop_cost[iter] = cost_func(pop_position[iter, :])\n",
    "\n",
    "# Function to Sort Population due to Costs\n",
    "def pop_sort(pos, cost):\n",
    "    sort_order = np.argsort(cost, axis=0)\n",
    "\n",
    "    cost = cost[sort_order]\n",
    "    pos = pos[sort_order]\n",
    "\n",
    "    return pos, cost\n",
    "\n",
    "# Sort Population\n",
    "pop_position, pop_cost = pop_sort(pop_position, pop_cost)\n",
    "\n",
    "# Store the Best Solution Ever Found\n",
    "best_sol = pop_position[0, :]\n",
    "best_cost = np.zeros((max_it))              # Array to Hold Best Costs\n",
    "\n",
    "# Roulette Wheel Selection (Selection due to Probabilities)1\n",
    "def roulette_wheel_selection(prob):\n",
    "    r = np.random.rand() * np.sum(prob)\n",
    "    cumsum = 0\n",
    "    for i in range(len(prob)):\n",
    "        cumsum += prob[i]\n",
    "        if (cumsum > r):\n",
    "            return i"
   ]
  },
  {
   "cell_type": "code",
   "execution_count": 8,
   "metadata": {},
   "outputs": [],
   "source": [
    "max_speed = 3200"
   ]
  },
  {
   "cell_type": "markdown",
   "metadata": {},
   "source": [
    "### BBO Main Loop"
   ]
  },
  {
   "cell_type": "code",
   "execution_count": 9,
   "metadata": {},
   "outputs": [
    {
     "name": "stdout",
     "output_type": "stream",
     "text": [
      "Iteration 0: Best Cost = 42426.416067342594, Best Solution = [ 0.86898973 -0.86428436 -4.17200749 -3.3971065 ]\n",
      "Iteration 1: Best Cost = 83666.00553549964, Best Solution = [ 0.86898973 -0.86428436 -4.17200749 -3.3971065 ]\n",
      "Iteration 2: Best Cost = 83666.0055011478, Best Solution = [ 0.86898973 -0.86428436 -4.17200749 -3.3971065 ]\n",
      "Iteration 3: Best Cost = 79372.54263623762, Best Solution = [ 0.86898973 -0.86428436 -4.17200749 -3.3971065 ]\n",
      "Iteration 4: Best Cost = 52345.01654522907, Best Solution = [ 0.86898973 -0.86428436 -4.17200749 -3.3971065 ]\n",
      "Iteration 5: Best Cost = 41472.892176889356, Best Solution = [ 0.86898973 -0.86428436 -4.17200749 -3.3971065 ]\n",
      "Iteration 6: Best Cost = 63561.00028638145, Best Solution = [ 0.86898973 -0.86428436 -4.17200749 -3.3971065 ]\n"
     ]
    },
    {
     "name": "stderr",
     "output_type": "stream",
     "text": [
      "/usr/lib/python3/dist-packages/ipykernel_launcher.py:66: UserWarning: loadtxt: Empty input file: \"pid_gain_err.txt\"\n",
      "/usr/lib/python3/dist-packages/numpy/core/fromnumeric.py:3118: RuntimeWarning: Mean of empty slice.\n",
      "  out=out, **kwargs)\n",
      "/usr/lib/python3/dist-packages/numpy/core/_methods.py:85: RuntimeWarning: invalid value encountered in double_scalars\n",
      "  ret = ret.dtype.type(ret / rcount)\n"
     ]
    },
    {
     "ename": "KeyboardInterrupt",
     "evalue": "",
     "output_type": "error",
     "traceback": [
      "\u001b[0;31m---------------------------------------------------------------------------\u001b[0m",
      "\u001b[0;31mKeyboardInterrupt\u001b[0m                         Traceback (most recent call last)",
      "\u001b[0;32m<ipython-input-9-c313d77fde91>\u001b[0m in \u001b[0;36m<module>\u001b[0;34m()\u001b[0m\n\u001b[1;32m     26\u001b[0m \u001b[0;34m\u001b[0m\u001b[0m\n\u001b[1;32m     27\u001b[0m         \u001b[0;31m# Evaluation\u001b[0m\u001b[0;34m\u001b[0m\u001b[0;34m\u001b[0m\u001b[0;34m\u001b[0m\u001b[0m\n\u001b[0;32m---> 28\u001b[0;31m         \u001b[0mnew_pop_cost\u001b[0m\u001b[0;34m[\u001b[0m\u001b[0mi\u001b[0m\u001b[0;34m]\u001b[0m \u001b[0;34m=\u001b[0m \u001b[0mcost_func\u001b[0m\u001b[0;34m(\u001b[0m\u001b[0mnew_pop_pos\u001b[0m\u001b[0;34m[\u001b[0m\u001b[0mi\u001b[0m\u001b[0;34m,\u001b[0m \u001b[0;34m:\u001b[0m\u001b[0;34m]\u001b[0m\u001b[0;34m)\u001b[0m\u001b[0;34m\u001b[0m\u001b[0;34m\u001b[0m\u001b[0m\n\u001b[0m\u001b[1;32m     29\u001b[0m \u001b[0;34m\u001b[0m\u001b[0m\n\u001b[1;32m     30\u001b[0m     \u001b[0;31m# Sort New Population\u001b[0m\u001b[0;34m\u001b[0m\u001b[0;34m\u001b[0m\u001b[0;34m\u001b[0m\u001b[0m\n",
      "\u001b[0;32m<ipython-input-2-3c12fed05be3>\u001b[0m in \u001b[0;36mpidGainEval\u001b[0;34m(gains)\u001b[0m\n\u001b[1;32m     75\u001b[0m \u001b[0;34m\u001b[0m\u001b[0m\n\u001b[1;32m     76\u001b[0m     \u001b[0mos\u001b[0m\u001b[0;34m.\u001b[0m\u001b[0msystem\u001b[0m\u001b[0;34m(\u001b[0m\u001b[0;34mf\"mv pid_gain_err.txt flightData/{NFE}.txt\"\u001b[0m\u001b[0;34m)\u001b[0m  \u001b[0;31m# Moving the File into the Folder\u001b[0m\u001b[0;34m\u001b[0m\u001b[0;34m\u001b[0m\u001b[0m\n\u001b[0;32m---> 77\u001b[0;31m     \u001b[0msleep\u001b[0m\u001b[0;34m(\u001b[0m\u001b[0;36m2\u001b[0m\u001b[0;34m)\u001b[0m                    \u001b[0;31m# Wait for 2 Seconds\u001b[0m\u001b[0;34m\u001b[0m\u001b[0;34m\u001b[0m\u001b[0m\n\u001b[0m\u001b[1;32m     78\u001b[0m \u001b[0;34m\u001b[0m\u001b[0m\n\u001b[1;32m     79\u001b[0m     \u001b[0;32mreturn\u001b[0m \u001b[0mcost\u001b[0m\u001b[0;34m\u001b[0m\u001b[0;34m\u001b[0m\u001b[0m\n",
      "\u001b[0;31mKeyboardInterrupt\u001b[0m: "
     ]
    }
   ],
   "source": [
    "for iter in range(max_it):\n",
    "    \n",
    "    # Create a Copy of the Population\n",
    "    new_pop_cost = pop_cost\n",
    "    new_pop_pos = pop_position\n",
    "\n",
    "    for i in range(n_pop):\n",
    "        for k in range(n_var):\n",
    "            # Migration\n",
    "            if np.random.rand() <= lmbda[i]:\n",
    "                # Modify Emmigration Probabilities\n",
    "                EP = mu\n",
    "                EP[i] = 0\n",
    "                EP /= np.sum(EP)                # Normalize it!\n",
    "                \n",
    "                # Select Source Habitat\n",
    "                j = roulette_wheel_selection(EP)\n",
    "                \n",
    "                # Migration\n",
    "                new_pop_pos[i, k] = pop_position[i, k] \n",
    "                + alpha * (pop_position[j, k] - pop_position[i, k])\n",
    "            \n",
    "            # Mutation\n",
    "            if np.random.rand() <= p_mutation:\n",
    "                new_pop_pos[i, k] += sigma[k] * np.random.randn(1)\n",
    "            \n",
    "        # Evaluation\n",
    "        new_pop_cost[i] = cost_func(new_pop_pos[i, :])\n",
    "    \n",
    "    # Sort New Population\n",
    "    new_pop_pos, new_pop_cost = pop_sort(new_pop_pos, new_pop_cost)\n",
    "    \n",
    "    # Select Next Iteration Population\n",
    "    pop_position = np.concatenate((pop_position[0:n_keep, :], new_pop_pos[0:n_new, :]), axis=0)\n",
    "    pop_cost = np.concatenate((pop_cost[0:n_keep], new_pop_cost[0:n_new]), axis = 0)\n",
    "    \n",
    "    # Sort Population\n",
    "    pop_position, pop_cost = pop_sort(pop_position, pop_cost)\n",
    "    \n",
    "    # Update Best Solution Ever Found\n",
    "    best_sol = pop_position[0, :]\n",
    "    \n",
    "    # Store Best Cost Ever Found\n",
    "    best_cost[iter] = pop_cost[0]\n",
    "    \n",
    "    # Log Iteration Info\n",
    "    print(\n",
    "        f\"Iteration {iter}: Best Cost = {best_cost[iter]}, Best Solution = {best_sol}\")\n"
   ]
  },
  {
   "cell_type": "markdown",
   "metadata": {},
   "source": [
    "### Results"
   ]
  },
  {
   "cell_type": "code",
   "execution_count": null,
   "metadata": {},
   "outputs": [],
   "source": [
    "fig = plt.figure(figsize=(18,8));\n",
    "plt.semilogy(best_cost, linewidth=3, color='r');\n",
    "plt.xlabel(\"Iteration\");\n",
    "plt.ylabel(\"Best Cost!\");"
   ]
  }
 ],
 "metadata": {
  "interpreter": {
   "hash": "877d3e9aae4bd54d908f64a295b7d969818895b31d52a8d81a0f5c02b60070d9"
  },
  "kernelspec": {
   "display_name": "Python 3.9.7 64-bit",
   "language": "python",
   "name": "python3"
  },
  "language_info": {
   "codemirror_mode": {
    "name": "ipython",
    "version": 3
   },
   "file_extension": ".py",
   "mimetype": "text/x-python",
   "name": "python",
   "nbconvert_exporter": "python",
   "pygments_lexer": "ipython3",
   "version": "3.7.3"
  },
  "orig_nbformat": 4
 },
 "nbformat": 4,
 "nbformat_minor": 2
}
